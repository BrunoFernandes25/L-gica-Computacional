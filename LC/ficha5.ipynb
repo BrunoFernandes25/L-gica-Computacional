{
 "cells": [
  {
   "cell_type": "markdown",
   "metadata": {
    "id": "jXEvHTsLGxFS"
   },
   "source": [
    "# Problemas de incidência\n",
    "\n",
    "Uma versão particular dos problemas de alocação são os *problemas de incidência*. Genericamente estes problemas estão ligados aos conjuntos que é possível  formar com os elementos de um dado universo finito.\n",
    "\n",
    "É frequente usar nestes problemas uma matriz binária $A$ com a seguinte semântica:\n",
    "\n",
    "> $A_{i,j} = 1 \\quad$ se e só se $\\quad$ o elemento $i$ do universo está contido no conjunto $j$.\n",
    "\n",
    "Estas matrizes chamam-se *matrizes de incidência* e daí resulta o nome genérico para estes problemas."
   ]
  },
  {
   "cell_type": "markdown",
   "metadata": {
    "id": "8VXhV4FIGxFX"
   },
   "source": [
    "## Set cover\n",
    "\n",
    "Um dos problemas clássicos das ciências da computação nesta categoria é o problema do *set cover* descrito em https://en.wikipedia.org/wiki/Set_cover_problem.\n",
    "\n",
    "Neste problema, são dados\n",
    "- $U$, o universo de valores\n",
    "- $S$, o conjunto de conjuntos,  cuja união é igual a $U$\n",
    "\n",
    "O objectivo é determinar o menor número de conjuntos de $S$ cuja união é igual a $U$, i.e., a *cobertura mínima* de $U$.\n",
    "\n",
    "### Análise do problema\n",
    "\n",
    "Podemos representar este problema por uma matriz de incidência $A \\in \\{0,1\\}^{|U| \\times |S|}$. Por exemplo, se $U=\\{0,1,2,3,4\\}$ e $S = \\{\\{0,1,2\\},\\{1,3\\},\\{2,3\\},\\{3,4\\}\\}$ temos a seguinte matriz de incidência\n",
    "\n",
    "$$\n",
    "\\begin{array}{c|c|c|c|c}\n",
    "& S_0 & S_1 & S_2 & S_3\\\\\n",
    "\\hline\n",
    "0 & 1 & 0 & 0 & 0\\\\\n",
    "\\hline\n",
    "1 & 1 & 1 & 0 & 0\\\\\n",
    "\\hline\n",
    "2 & 1 & 0 & 1 & 0\\\\\n",
    "\\hline\n",
    "3 & 0 & 1 & 1 & 1\\\\\n",
    "\\hline\n",
    "4 & 0 & 0 & 0 & 1\n",
    "\\end{array}\n",
    "$$\n",
    "\n",
    "Neste exemplo, a cobertura mínima é $S_0 \\cup S_3 = U$.\n",
    "\n",
    "Este problema pode ser resolvido com programação inteira usando uma variável inteira binária $x_j$ para cada conjunto $S_j$, que irá determinar se esse conjunto pertence à cobertura mínima. O objectivo é minimizar $\\sum_j x_j$ obedecendo à seguinte restrição:\n",
    "- Cada elemento de $U$ tem que pertencer a pelo menos um conjunto da cobertura mínima."
   ]
  },
  {
   "cell_type": "markdown",
   "metadata": {
    "id": "O2Tr2X2xGxFY"
   },
   "source": [
    "### Exercício 1\n",
    "Formalize a restrição acima indicada.\n",
    "\n",
    "$ \\forall_{i \\in U}  \\sum_{j<|S|} (A_{i,j}*x_{j}) \\geq 1$"
   ]
  },
  {
   "cell_type": "markdown",
   "metadata": {
    "id": "60a-Ntn9GxFY"
   },
   "source": [
    "### Exercício 2\n",
    "\n",
    "Usando o SCIP, implemente a função `set_cover` que dada a matriz de incidência (representada como uma lista de colunas) determine quais os conjuntos que pertencem à cobertura mínima. "
   ]
  },
  {
   "cell_type": "code",
   "execution_count": 1,
   "metadata": {
    "id": "pDO7sayxGxFZ"
   },
   "outputs": [],
   "source": [
    "from ortools.linear_solver import pywraplp\n",
    "\n",
    "def set_cover(A):\n",
    "    s = pywraplp.Solver.CreateSolver('SCIP')\n",
    "    \n",
    "    x = {}\n",
    "    for j in range(len(A)): # len(A) -> nº de subconjuntos\n",
    "        x[j]=s.BoolVar(f'x[{j}]')\n",
    "    \n",
    "    #Restringindo\n",
    "    for i in range(len(A[0])): # A[0] tamanho de uma linha\n",
    "        s.Add(sum([A[j][i]*x[j] for j in range(len(A))]) >= 1)\n",
    "    \n",
    "    #Minimizando\n",
    "    s.Minimize(sum([x[j] for j in range(len(A))])) # ou for j in range(values) pois é dicionario\n",
    "    status = s.Solve()\n",
    "    if status == pywraplp.Solver.OPTIMAL:\n",
    "        return [j for j in range(len(A)) if round(x[j].solution_value()) == 1]\n",
    "            \n",
    "assert set_cover([[1,1,1,0,0],[0,1,0,1,0],[0,0,1,1,0],[0,0,0,1,1]]) == [0,3] # Logo [0,3] está correto"
   ]
  },
  {
   "cell_type": "markdown",
   "metadata": {
    "id": "y4hMP7TzGxFZ"
   },
   "source": [
    "## Bin packing\n",
    "\n",
    "Outro problema clássico na categoria dos problemas de incidência, que generaliza o problema anterior, é o problema de empacotamento *bin packing* descrito em https://en.wikipedia.org/wiki/Bin_packing_problem. \n",
    "\n",
    "Neste problema, são dados\n",
    "- $N$, o número de items a empacotar\n",
    "- $C$, a capacidade das contentores onde pretendemos empacotar os items\n",
    "- $W_i$ o peso de cada item $i$, com $0 < W_i \\le C$\n",
    "\n",
    "Pretende-se determinar o número mínimo de contentores necessários para empacotar todos os items (note que, no pior caso, tal será possível com $N$ contentores).\n",
    "\n",
    "Por exemplo, se tivermos\n",
    "- $N = 7$\n",
    "- $C = 10$\n",
    "- $W_0 = 2, W_1 = 5, W_2 = 4, W_3 = 7, W_4 = 1, W_5 = 3, W_6 = 8$\n",
    "\n",
    "o número mínimo de contentores necessários é 3.\n",
    "\n",
    "### Análise do problema\n",
    "\n",
    "Ao contrário do problema anterior, em que a matriz de incidência é dada como input, neste problema pretende-se precisamente descobrir esta matriz, minimizando simultaneamente o número de contentores. Como tal, para resolver este problema com programação inteira iremos usar as seguintes variáveis:\n",
    "\n",
    "- Uma matriz $A$ de variáveis binárias de dimensão $|N| \\times |N|$, onde a variável $A_{i,j}$ determina se o item $i$ é colocado no contentor $j$\n",
    "- Uma variável binária $y_j$ por cada contentor $j$ que determina se esse contentor é utilizado\n",
    "\n",
    "O objectivo é minimizar $\\sum_j y_j$ obedecendo às seguintes restrições:\n",
    "- Cada item tem que ser empacotado num contentor\n",
    "- A capacidade de cada contentor não pode ser excedida"
   ]
  },
  {
   "cell_type": "markdown",
   "metadata": {
    "id": "MR7OxnYxGxFa"
   },
   "source": [
    "### Exercício 3\n",
    "Formalize as duas restrições acima indicadas.\n",
    "\n",
    "$ \\forall_{i<?} \\sum$"
   ]
  },
  {
   "cell_type": "markdown",
   "metadata": {
    "id": "PLnZ1ds1GxFa"
   },
   "source": [
    "### Exercício 4\n",
    "\n",
    "Implemente a função `binpacking` que dada a capacidade dos contentores e uma lista com os pesos dos items a empacotar, determine o número mínimo de contentores necessários para o fazer."
   ]
  },
  {
   "cell_type": "code",
   "execution_count": 7,
   "metadata": {
    "id": "YnuJ-EuRGxFb"
   },
   "outputs": [],
   "source": [
    "def binpacking(C,W):\n",
    "    s = pywraplp.Solver.CreateSolver('SCIP')\n",
    "    \n",
    "    N= len(W)\n",
    "    A = {}\n",
    "    y={}\n",
    "    \n",
    "    for i in range(N):                           #matriz será NxN\n",
    "        y[i]= s.BoolVar(f'y[{i}]')\n",
    "        for j in range(N):\n",
    "            A[i,j]=s.BoolVar(f'A[{i},{j}]')\n",
    "    \n",
    "    #Restrições\n",
    "    for i in range(N):\n",
    "        s.Add(sum([A[i,j] for j in range(N)]) == 1)\n",
    "    \n",
    "    for j in range(N):\n",
    "        s.Add(sum([A[i,j]*W[i] for i in range(N)]) <= C*y[j])\n",
    "\n",
    "    #Minimizar\n",
    "    s.Minimize(sum([y[i] for i in range(N)]))\n",
    "    \n",
    "    status = s.Solve()\n",
    "    if status == pywraplp.Solver.OPTIMAL:\n",
    "        return round(s.Objective().Value())\n",
    "\n",
    "assert binpacking(10,[2,5,4,7,1,3,8]) == 3"
   ]
  },
  {
   "cell_type": "markdown",
   "metadata": {
    "id": "e6Jieg0AGxFb"
   },
   "source": [
    "### Exercício 5\n",
    "Modifique a sua implementação da função anterior por forma a devolver uma lista com os identificadores dos contentores onde cada item deve ser empacotado."
   ]
  },
  {
   "cell_type": "code",
   "execution_count": 12,
   "metadata": {
    "id": "2gwZFsKKGxFc"
   },
   "outputs": [
    {
     "data": {
      "text/plain": [
       "[(0, 1), (1, 0), (2, 0), (3, 6), (4, 0), (5, 6), (6, 1)]"
      ]
     },
     "execution_count": 12,
     "metadata": {},
     "output_type": "execute_result"
    }
   ],
   "source": [
    "def binpacking(C,W):\n",
    "    s = pywraplp.Solver.CreateSolver('SCIP')\n",
    "    \n",
    "    N= len(W)\n",
    "    A = {}\n",
    "    y={}\n",
    "    \n",
    "    for i in range(N):                           #matriz será NxN\n",
    "        y[i]= s.BoolVar(f'y[{i}]')\n",
    "        for j in range(N):\n",
    "            A[i,j]=s.BoolVar(f'A[{i},{j}]')\n",
    "    \n",
    "    #Restrições\n",
    "    for i in range(N):\n",
    "        s.Add(sum([A[i,j] for j in range(N)]) == 1)\n",
    "    \n",
    "    for j in range(N):\n",
    "        s.Add(sum([A[i,j]*W[i] for i in range(N)]) <= C*y[j])\n",
    "\n",
    "    #Minimizar\n",
    "    s.Minimize(sum([y[i] for i in range(N)]))\n",
    "    \n",
    "    status = s.Solve()\n",
    "    if status == pywraplp.Solver.OPTIMAL:\n",
    "        l = []\n",
    "        for i in range(N):\n",
    "            for j in range(N):\n",
    "                if round(A[i,j].solution_value()) == 1:    # que siginifica -> A[i,j] == 0,  em codigo usamos o solver da forma correta\n",
    "                    l.append((i,j))  # (item,contentor) ou dar só o contentor e ficava l.append(j)\n",
    "        return l\n",
    "binpacking(10,[2,5,4,7,1,3,8])"
   ]
  },
  {
   "cell_type": "markdown",
   "metadata": {
    "id": "D93WYWnWGxFc"
   },
   "source": [
    "## Knapsack\n",
    "\n",
    "Outro problema clássico de incidência é o *problema da mochila* descrito em https://en.wikipedia.org/wiki/Knapsack_problem.\n",
    "\n",
    "Neste problema, são dados\n",
    "- $N$, o número de items disponíveis\n",
    "- $C$, a capacidade da mochila\n",
    "- $W_i$, o peso de cada item $i$, com $0 < W_i \\le C$\n",
    "- $V_i$ o valor de cada item $i$, com $0 \\le V_i$\n",
    "\n",
    "Pretende-se determinar o valor máximo que pode ser transportado na mochila.\n",
    "\n",
    "Por exemplo, se tivermos uma mochila com capacidade $C = 15$ e 5 items com os seguintes pesos e valores\n",
    "$$\n",
    "\\begin{array}{c|c|c}\n",
    "& W & V\\\\\n",
    "\\hline\n",
    "0 & 12 & 4\\\\\n",
    "1 & 2 & 2\\\\\n",
    "2 & 1 & 2\\\\\n",
    "3 & 1 & 1\\\\\n",
    "4 & 4 & 10\n",
    "\\end{array}\n",
    "$$\n",
    "a melhor solução é empacotar todos os items menos o primeiro, com um valor total de 15."
   ]
  },
  {
   "cell_type": "markdown",
   "metadata": {
    "id": "fI0v2xBhGxFd"
   },
   "source": [
    "### Exercício 6\n",
    "Formalize este problema usando programação inteira."
   ]
  },
  {
   "cell_type": "markdown",
   "metadata": {
    "id": "zmm0L-peGxFd"
   },
   "source": [
    "### Exercício 7\n",
    "Implemente a função `knapsack` que dada a capacidade da mochila e uma lista com um par *(peso, valor)* por cada item, determine quais os items a empacotar na mochila e o respectivo valor."
   ]
  },
  {
   "cell_type": "code",
   "execution_count": 19,
   "metadata": {
    "id": "eocon22yGxFd"
   },
   "outputs": [],
   "source": [
    "def knapsack(C,I):\n",
    "    s = pywraplp.Solver.CreateSolver('SCIP')\n",
    "    N=len(I)\n",
    "    y= {}\n",
    "    for i in range(N):\n",
    "        y[i]=s.BoolVar(f'y[{i}]')\n",
    "    \n",
    "    #Restrição\n",
    "    s.Add(sum([ y[i]*I[i][0] for i in range(N)]) <= C)\n",
    "    \n",
    "    #Maximização\n",
    "    s.Maximize(sum([y[i]*I[i][1] for i in range(N)])) # corrigir esta linha de codigo\n",
    "                         # agora acedemos aos valores de cada item\n",
    "    status = s.Solve()\n",
    "    if status == pywraplp.Solver.OPTIMAL:\n",
    "        return [i for i in range(N) if round(y[i].solution_value()) == 1 ]\n",
    "    \n",
    "assert knapsack(15,[(12,4),(2,2),(1,2),(1,1),(4,10)]) == [1,2,3,4]"
   ]
  },
  {
   "cell_type": "code",
   "execution_count": null,
   "metadata": {},
   "outputs": [],
   "source": []
  }
 ],
 "metadata": {
  "colab": {
   "collapsed_sections": [],
   "name": "Copy of Aula4-Resolucao.ipynb",
   "provenance": [
    {
     "file_id": "1N_kAmrmcORioM6GMchii3EKuxxdlZUi9",
     "timestamp": 1635268585989
    }
   ]
  },
  "kernelspec": {
   "display_name": "Python 3 (ipykernel)",
   "language": "python",
   "name": "python3"
  },
  "language_info": {
   "codemirror_mode": {
    "name": "ipython",
    "version": 3
   },
   "file_extension": ".py",
   "mimetype": "text/x-python",
   "name": "python",
   "nbconvert_exporter": "python",
   "pygments_lexer": "ipython3",
   "version": "3.10.4"
  }
 },
 "nbformat": 4,
 "nbformat_minor": 1
}
