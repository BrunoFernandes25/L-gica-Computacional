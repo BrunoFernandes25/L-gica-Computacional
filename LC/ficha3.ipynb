{
 "cells": [
  {
   "cell_type": "markdown",
   "metadata": {
    "id": "qm74Ke0WGTy6"
   },
   "source": [
    "# Problemas de alocação\n",
    "\n",
    "Os problemas de alocação modelam uma relação entre dois tipos de entidades: *compromissos* e *recursos*. Adicionalmente, as restrições sobre a alocação de recursos a compromissos classificam-se em dois tipos: *obrigações* e *limitações*.\n",
    "\n",
    "Nesta aula vamos considerar um problema de alocação. Pretende-se que faça a modelação do problema em Programação Inteira e que use o SCIP para os resolver.\n",
    "Usaremos a biblioteca [OR-Tools](https://developers.google.com/optimization) para fazer a interface para o SCIP. "
   ]
  },
  {
   "cell_type": "markdown",
   "metadata": {
    "id": "XtKrQ1REGTzB"
   },
   "source": [
    "## Horário de um centro de estudos\n",
    "\n",
    "Um centro de estudos possui $S$ salas de aula, $P$ professores, e está aberto $H$ horas por dia, durante $D$ dias na semana.\n",
    "\n",
    "O centro de estudos funciona com as seguintes regras:\n",
    "- Cada professor não pode dar mais do que $C$ horas por dia.\n",
    "- Todos os professores do centro devem ter uma carga horária semanal parecida (diferença máxima de 2 horas).\n",
    "- Não é permitido mais do que um professor por sala.\n",
    "- Alocações contíguas do mesmo professor têm de ser na mesma sala.\n",
    "\n",
    "Pretende-se estabelecer um horário para o centro de estudos que permita ter um número mínimo de aulas $N$ por semana."
   ]
  },
  {
   "cell_type": "markdown",
   "metadata": {
    "id": "1cENlISOGTzB"
   },
   "source": [
    "### Análise do problema\n",
    "\n",
    "Este é um problema de alocação. Pretende-se alocar professores a salas de aula, ao longo da semana, sendo o tempo de ocupação das salas de uma hora. \n",
    "\n",
    "Existem $P$ professores, que podemos identificar por um índice $p \\in [0..P\\!-\\!1]$, e podemos identificar cada sala disponível num dado dia, a uma dada hora, por um triplo $(s,d,h) \\in [0..S\\!-\\!1]\\times[0..D\\!-\\!1]\\times[0..H\\!-\\!1]$.\n",
    "\n",
    "Vamos usar uma família $x_{p,s,d,h}$ de variáveis binárias (i.e., que assumem valores inteiros $\\{0,1\\}$), com a seguinte semântica\n",
    "\n",
    "$$x_{p,s,d,h} == 1  \\quad \\mbox{se e só se} \\quad \\mbox{o professor $p$ for alocado à sala $s$, no dia $d$, à hora $h$.}$$\n",
    "\n",
    "Estas $P\\times S\\times D\\times H$ variáveis são convenientemente representadas numa matriz $X$ instanciável com valores $\\{0,1\\}^{P\\times S\\times D\\times H}$, a que se costuma chamar *matriz de alocação*.\n",
    "\n",
    "Destaca-se ainda o seguinte:\n",
    "\n",
    "**Limitações** (que impõem limites máximos à alocação)\n",
    "\n",
    "1. A carga horária diária máxima de cada professor é $C$.\n",
    "2. Cada sala tem alocado, no máximo, um professor.\n",
    "3. Em cada dia e hora, cada professor é alocado 0 ou 1 vezes.\n",
    "4. No mesmo dia duas alocações contíguas do mesmo professor têm de ser na mesma sala.\n",
    "\n",
    "\n",
    "**Obrigações** (que impõem limites mínimos à alocação)\n",
    "\n",
    "5. Todos os professores têm uma carga horaria semanal parecida (diferença máxima de 2 horas).\n",
    "6. O número mínimo de aulas por semana é $N$."
   ]
  },
  {
   "cell_type": "markdown",
   "metadata": {
    "id": "nsiPBF-eGTzC"
   },
   "source": [
    "### Implementação\n",
    "\n",
    "Começamos por importar a biblioteca de programação linear do OR-Tools e criar uma instância do *solver*.\n",
    "\n",
    "\n",
    "Depois inicializamos o *solver* `horario` e definir os valores para as constantes $S$, $P$, $H$, $D$, $C$ e $N$."
   ]
  },
  {
   "cell_type": "code",
   "execution_count": 1,
   "metadata": {
    "id": "zvJ27RwPGTzC"
   },
   "outputs": [],
   "source": [
    "from ortools.linear_solver import pywraplp\n",
    "\n",
    "horario = pywraplp.Solver.CreateSolver('SCIP')\n",
    "#Salas, Professores,Horas por dia, Dias, Carga Horária máx, mín. aulas por semana\n",
    "S, P, H, D, C, N = 1, 2, 6, 5, 4, 21 # dá erro se aumentarmos o numero de salas em 5!?"
   ]
  },
  {
   "cell_type": "markdown",
   "metadata": {
    "id": "Ov_Egb_aGTzD"
   },
   "source": [
    "Em seguida, declaramos a matriz de alocação, $X$, e uma variável $T$ que irá representar a carga horária semanal mínima de cada professor (com as restrições adequadas)."
   ]
  },
  {
   "cell_type": "markdown",
   "metadata": {
    "id": "YB6lP3VaGTzD"
   },
   "source": [
    "### Exercício 1\n",
    "\n",
    "Complete a declaração da matriz de alocação $X$ como um dicionário."
   ]
  },
  {
   "cell_type": "code",
   "execution_count": 2,
   "metadata": {
    "id": "foHh_W_8GTzD"
   },
   "outputs": [],
   "source": [
    "X = {}\n",
    "\"\"\"for p in range(P):\n",
    "    x[p]= {} \n",
    "    for s in range(S):\n",
    "        x[p][s]={}\n",
    "        for d in range(D):\n",
    "            x[p][s][d]={}\n",
    "            for h in range(H):\n",
    "                x[p][s][d][h] = horario.BoolVar('x[%i][%i][%i][%i]' % (p,s,d,h)\n",
    "\"\"\"\n",
    "for p in range(P): \n",
    "    for s in range(S):\n",
    "        for d in range(D):\n",
    "            for h in range(H):\n",
    "                X[p,s,d,h]=horario.BoolVar(f'X[{p}][{s}][{d}][{h}]')\n",
    "                \n",
    "                \n",
    "                \n",
    "#def X(p,s,d,h):              # abreviatura  ou como na ficha 2 e usar tuplos\n",
    "#    return x[p][s][d][h]           \n",
    "\n",
    "#limitou se inferiormente por 0 e máxima de H*D (limnite aceitável)\n",
    "T = horario.IntVar(0.0,H*D,\"T\")"
   ]
  },
  {
   "cell_type": "markdown",
   "metadata": {
    "id": "x4oLYNM6GTzE"
   },
   "source": [
    "Passamos agora à modelação das restrições e à sua introdução no *solver*.\n",
    "\n",
    "A restrição\n",
    "\n",
    "1. A carga horária diaria máxima de cada professor é $C$\n",
    "\n",
    "pode expressar-se da seguinte forma:\n",
    "\n",
    "$$\\forall_{d< D} \\cdot \\forall_{p< P} \\cdot \\quad \\sum_{h< H,\\,s< S} x_{p,s,d,h} \\leq C$$"
   ]
  },
  {
   "cell_type": "code",
   "execution_count": 3,
   "metadata": {
    "id": "PejhYKKbGTzE"
   },
   "outputs": [],
   "source": [
    "for d in range(D):\n",
    "    for p in range(P):\n",
    "        horario.Add(sum([X[p,s,d,h] for h in range(H) for s in range(S)]) <= C)"
   ]
  },
  {
   "cell_type": "markdown",
   "metadata": {
    "id": "eUYL_nPFGTzE"
   },
   "source": [
    "### Exercício 2\n",
    "\n",
    "Apresente as fórmulas que modelam as restantes restrições e acrescente-as ao problema `horario`.\n",
    "\n",
    "2. Cada sala tem alocada, no máximo, um professor.\n",
    "\n",
    "$ \\forall_{s<S}.\\forall_{d<D}.\\forall_{h<H} \\sum_{p<P} X_{p,s,d,h} \\leq 1  $"
   ]
  },
  {
   "cell_type": "code",
   "execution_count": 4,
   "metadata": {
    "id": "G-m55v0hGTzE"
   },
   "outputs": [],
   "source": [
    "for s in range(S):\n",
    "    for d in range(D):\n",
    "        for p in range(P):\n",
    "            for h in range(H):\n",
    "                horario.Add(sum([X[p,s,d,h] for p in range (P)]) <= 1)"
   ]
  },
  {
   "cell_type": "markdown",
   "metadata": {
    "id": "00Ahl-P2GTzF"
   },
   "source": [
    "3. Em cada dia e hora, cada professor é alocado 0 ou 1 vezes.\n",
    "\n",
    "$$ (completar) $$"
   ]
  },
  {
   "cell_type": "code",
   "execution_count": 5,
   "metadata": {
    "id": "cIllcXXnGTzF"
   },
   "outputs": [],
   "source": [
    "for p in range(P):\n",
    "    for d in range(D):\n",
    "        for s in range(S):\n",
    "            for p in range(P):\n",
    "                horario.Add(sum([X[p,s,d,h] for s in range (S)]) <= 1)"
   ]
  },
  {
   "cell_type": "markdown",
   "metadata": {
    "id": "Ok9ow7OoGTzF"
   },
   "source": [
    "4. Todos os professores têm uma carga horaria semanal parecida (diferença máxima de 2 horas).\n",
    "\n",
    "$$ (completar) $$"
   ]
  },
  {
   "cell_type": "code",
   "execution_count": 6,
   "metadata": {
    "id": "3iOLD4lsGTzG"
   },
   "outputs": [],
   "source": [
    "# T = horario.IntVar(0.0,H*D,\"T\") haviamos estabelecido um T que estabelecia o Máx e mín carga horaria de cada prof.\n",
    "for p in range(P):\n",
    "    horario.Add(T <= sum([X[p,s,d,h] for s in range(S) for d in range(D) for h in range(H)])<= T+2)"
   ]
  },
  {
   "cell_type": "markdown",
   "metadata": {
    "id": "P9aBI-47GTzG"
   },
   "source": [
    "5. No mesmo dia duas alocações contíguas do mesmo professor têm de ser na mesma sala.\n",
    "\n",
    "$$ (completar) $$"
   ]
  },
  {
   "cell_type": "code",
   "execution_count": 7,
   "metadata": {
    "id": "_93GrtW9GTzG"
   },
   "outputs": [],
   "source": [
    "for d in range(D):\n",
    "    for p in range(P):\n",
    "        for h in range(H-1):\n",
    "            for s1 in range(S):\n",
    "                for s2 in range(S):\n",
    "                    if s1 != s2:\n",
    "                        horario.Add(X[p,s1,d,h] + X[p,s2,d,h+1] <= 1)\n",
    "                \n",
    "                \n",
    "                \n",
    "                # pensei inicialmente desta forma mas deu um errozito -> s1+1 e eu tinha s1 apenas...\n",
    "                #for s2 in range(s1+1,S+1): #sala seguinte \n",
    "                    #horario.Add(X[p,s1,d,h] + X[p,s2,d,h+1] <= 1) #desta forma garantimos que o mesmo p noa tá em 2 salas diferentes em h e h+1\n",
    "                    #horario.Add(X[p,s1,d,h+1] + X[p,s2,d,h] <= 1) # e aqui garantimos que as mesmas salas no caso de s1 na 2ªhora e a 1ªa da s2 tambem garante o que pretendemos"
   ]
  },
  {
   "cell_type": "markdown",
   "metadata": {
    "id": "78_mkZ64GTzH"
   },
   "source": [
    "6. O número mínimo de aulas por semana é $N$.\n",
    "\n",
    "$$\n",
    "(completar)\n",
    "$$"
   ]
  },
  {
   "cell_type": "code",
   "execution_count": 8,
   "metadata": {
    "colab": {
     "base_uri": "https://localhost:8080/"
    },
    "id": "T5N7FrGLGTzH",
    "outputId": "9b929781-a79b-4715-88c1-4488706c649c",
    "scrolled": true
   },
   "outputs": [
    {
     "data": {
      "text/plain": [
       "<ortools.linear_solver.pywraplp.Constraint; proxy of <Swig Object of type 'operations_research::MPConstraint *' at 0x000001E1CB757AE0> >"
      ]
     },
     "execution_count": 8,
     "metadata": {},
     "output_type": "execute_result"
    }
   ],
   "source": [
    "# Num horas semanais totais >= N, logo faz se o somatório de todas as horas de todos os professores em todos os dias e salas\n",
    "horario.Add(sum([X[p,s,d,h] for p in range(P) for h in range(H) for s in range(S) for d in range(D)]) >= N)"
   ]
  },
  {
   "cell_type": "code",
   "execution_count": 9,
   "metadata": {},
   "outputs": [],
   "source": [
    "# Se quisessemos maximizar o numero de horas dadas por cada professor do centro de estudos\n",
    "horario.Maximize(sum([X[p,s,d,h] for p in range(P) for h in range(H) for s in range(S) for d in range(D)]))# objetivo é maximizar o numero de horas do centro "
   ]
  },
  {
   "cell_type": "markdown",
   "metadata": {
    "id": "CPF-K3sPGTzH"
   },
   "source": [
    "### Exercício 3\n",
    "\n",
    "Finalize a resolução do problema procurando uma solução, e imprimindo o número de aulas por semana, caso exista."
   ]
  },
  {
   "cell_type": "code",
   "execution_count": 10,
   "metadata": {
    "colab": {
     "base_uri": "https://localhost:8080/"
    },
    "id": "uM01CqR4GTzH",
    "outputId": "32c81756-9e46-45c8-8468-e764c67232d4"
   },
   "outputs": [
    {
     "name": "stdout",
     "output_type": "stream",
     "text": [
      "Número de aulas por semana:\n",
      "30\n"
     ]
    }
   ],
   "source": [
    "res = horario.Solve()\n",
    "if res == pywraplp.Solver.OPTIMAL:\n",
    "    print(\"Número de aulas por semana:\")\n",
    "    print(sum([round(X[p,s,d,h].solution_value()) for p in range(P) for h in range(H) for s in range(S) for d in range(D)]))\n",
    "else:\n",
    "    print(\"Solução não encontrada\")"
   ]
  },
  {
   "cell_type": "markdown",
   "metadata": {
    "id": "nSThh2OmGTzJ"
   },
   "source": [
    "### Exercício 4\n",
    "\n",
    "Defina funções para construir os horarios de professores e salas individuais, e para apresentar de forma legível esses horários."
   ]
  },
  {
   "cell_type": "code",
   "execution_count": 11,
   "metadata": {},
   "outputs": [
    {
     "name": "stdout",
     "output_type": "stream",
     "text": [
      "Requirement already satisfied: tabulate in c:\\users\\ferna\\.conda\\envs\\logica\\lib\\site-packages (0.9.0)Note: you may need to restart the kernel to use updated packages.\n",
      "\n"
     ]
    }
   ],
   "source": [
    "pip install tabulate"
   ]
  },
  {
   "cell_type": "code",
   "execution_count": 12,
   "metadata": {
    "id": "o1CsauGPGTzJ",
    "scrolled": true
   },
   "outputs": [
    {
     "ename": "NameError",
     "evalue": "name 'hor' is not defined",
     "output_type": "error",
     "traceback": [
      "\u001b[1;31m---------------------------------------------------------------------------\u001b[0m",
      "\u001b[1;31mNameError\u001b[0m                                 Traceback (most recent call last)",
      "Cell \u001b[1;32mIn [12], line 8\u001b[0m\n\u001b[0;32m      6\u001b[0m head\u001b[38;5;241m.\u001b[39minsert(\u001b[38;5;241m0\u001b[39m, \u001b[38;5;124m\"\u001b[39m\u001b[38;5;124mSlots\u001b[39m\u001b[38;5;124m\"\u001b[39m)\n\u001b[0;32m      7\u001b[0m \u001b[38;5;28;01mfor\u001b[39;00m slot \u001b[38;5;129;01min\u001b[39;00m \u001b[38;5;28mrange\u001b[39m(\u001b[38;5;241m1\u001b[39m,H\u001b[38;5;241m+\u001b[39m\u001b[38;5;241m1\u001b[39m):\n\u001b[1;32m----> 8\u001b[0m     \u001b[43mhor\u001b[49m[slot\u001b[38;5;241m-\u001b[39m\u001b[38;5;241m1\u001b[39m]\u001b[38;5;241m.\u001b[39minsert(\u001b[38;5;241m0\u001b[39m,\u001b[38;5;124m\"\u001b[39m\u001b[38;5;124mSlot \u001b[39m\u001b[38;5;132;01m%i\u001b[39;00m\u001b[38;5;130;01m\\n\u001b[39;00m\u001b[38;5;124m\"\u001b[39m \u001b[38;5;241m%\u001b[39m slot)\n\u001b[0;32m      9\u001b[0m hor \u001b[38;5;241m=\u001b[39m [[] \u001b[38;5;28;01mfor\u001b[39;00m X \u001b[38;5;129;01min\u001b[39;00m \u001b[38;5;28mrange\u001b[39m(H)]\n\u001b[0;32m     10\u001b[0m \u001b[38;5;66;03m#slot linha da matriz horario\u001b[39;00m\n\u001b[0;32m     11\u001b[0m \u001b[38;5;66;03m#dia coluna da matriz horario\u001b[39;00m\n",
      "\u001b[1;31mNameError\u001b[0m: name 'hor' is not defined"
     ]
    }
   ],
   "source": [
    "from tabulate import tabulate\n",
    "#para cada hora e dia fazer o horario de cada professor é matrizes python tentar em casa\n",
    "if res == pywraplp.Solver.OPTIMAL:\n",
    "\n",
    "    head = [\"Dia %i\" % (d+1) for d in range(D)]\n",
    "    head.insert(0, \"Slots\")\n",
    "    for slot in range(1,H+1):\n",
    "        hor[slot-1].insert(0,\"Slot %i\\n\" % slot)\n",
    "    hor = [[] for X in range(H)]\n",
    "    #slot linha da matriz horario\n",
    "    #dia coluna da matriz horario\n",
    "    for hora in range(0,H+2):    \n",
    "        for d in range(0,D+1):\n",
    "            hor[hora].insert(d,\"\")\n",
    "            for p in range(1,P+1):\n",
    "                for s in range(1,S+1):\n",
    "                    for h in range(1,H+1):\n",
    "                        if round(X[p-1,s-1,d,h-1].solution_value()) == 1:\n",
    "                            hor[hora][d] += (\"Prof %i - Sala %i\\n \" % (p,s))\n",
    "                            hor[hora][d] = hor[hora][d][:-2]\n",
    "                            hor[hora][d] += (\"\\n\\n\")\n",
    "\n",
    "print(tabulate(hor, headers=head))\n",
    "\n",
    "# FODASSEEEEEEEEEEEEEEEEEEEEEEEEEE"
   ]
  },
  {
   "cell_type": "markdown",
   "metadata": {
    "id": "wEvQeGL_GTzK"
   },
   "source": [
    "### Exercício 5\n",
    "\n",
    "Explore o comportamento do modelo pela variação dos parâmetros $S$, $P$, $H$, $D$, $C$ e $N$."
   ]
  },
  {
   "cell_type": "markdown",
   "metadata": {
    "id": "IvnRPqlHGTzK"
   },
   "source": [
    "### Exercício 6\n",
    "\n",
    "Queremos agora acrescentar a seguinte regra no funcionamento do centro de estudos:\n",
    "\n",
    "> Cada professor tem de ter um dia da semana em que não dá aulas.\n",
    "\n",
    "Esta *obrigação* poderia ser expressa matematicamente, de forma direta, por\n",
    "$$\n",
    "\\forall_{p<P}.\\exists_{d<D}. \\quad \\sum_{s<S,h<H} x_{p,s,d,h} = 0\n",
    "$$\n",
    "ou, em alternativa, pela seguinte expressão\n",
    "$$\n",
    "\\forall_{p<P}. \\quad \\bigvee_{d<D} \\big(\\sum_{s<S,h<H} x_{p,s,d,h} = 0\\big) \n",
    "$$\n",
    "\n",
    "Contudo a disjunção não tem uma representação direta nos solvers para programação inteira. Para a implementar podemos acrescentar uma família de variáveis binárias $y_{p,d}$ que indicam se o professor $p$ dá aulas no dia $d$, com a seguinte restrição que limita o número máximo de dias em que o professor dá aulas.\n",
    "\n",
    "$$\\forall_{p<P} \\cdot \\quad \\sum_{d<D} y_{p,d} \\leq D-1 $$"
   ]
  },
  {
   "cell_type": "markdown",
   "metadata": {
    "id": "hSH6ZG1nGTzK"
   },
   "source": [
    "O valor de  $y_{p,d}$ deve também de alguma forma limitar superiormente as aulas que o professor $p$ dá no dia $d$.\n",
    "Apresente uma fórmula que modele esta nova limitação."
   ]
  },
  {
   "cell_type": "markdown",
   "metadata": {
    "id": "tu1RcHkYGTzL"
   },
   "source": [
    "$$\\forall_{p<P} \\cdot \\forall_{d<D} \\cdot \\quad \\sum_{s<S,h<H} x_{p,s,d,h} \\leq y_{p,d} \\times H$$\n",
    "\n"
   ]
  },
  {
   "cell_type": "markdown",
   "metadata": {
    "id": "nhmCmsTLGTzL"
   },
   "source": [
    "Acrescente agora estas fórmulas ao problema `horario`, e encontre nova solução."
   ]
  },
  {
   "cell_type": "markdown",
   "metadata": {
    "colab": {
     "base_uri": "https://localhost:8080/"
    },
    "id": "PyxVJHbJGTzL",
    "outputId": "b99e186c-1a74-41d9-c3d6-91880c56e31f"
   },
   "source": [
    "$ - y_{p,d} x H indica que um professor pode trabalhar mais de uma vez no mesmo dia "
   ]
  },
  {
   "cell_type": "code",
   "execution_count": 16,
   "metadata": {},
   "outputs": [],
   "source": [
    "#declarar y\n",
    "Y={}\n",
    "for p in range(P): \n",
    "    for d in range(D):\n",
    "        Y[p,d]=horario.BoolVar(f'Y[{p}][{d}]')\n",
    "\n",
    "#acrescentar as restrições acima\n",
    "#1\n",
    "for p in range(P):\n",
    "    horario.Add(sum([Y[p,d] for d in range(D)]) <= D-1)\n",
    "\n",
    "#2 ver esta resoluçao novamente nao encontra solução\n",
    "for p in range(P):\n",
    "    for d in range(D):\n",
    "        horario.Add(sum([X[p,s,d,h] for h in range(H) for s in range(S)]) <= Y[p,d]*H)"
   ]
  },
  {
   "cell_type": "code",
   "execution_count": 18,
   "metadata": {},
   "outputs": [
    {
     "name": "stdout",
     "output_type": "stream",
     "text": [
      "Solução não encontrada\n"
     ]
    }
   ],
   "source": [
    "status = horario.Solve()\n",
    "if status == pywraplp.Solver.OPTIMAL:\n",
    "    print(\"Número de aulas por semana:\")\n",
    "    print(sum([round(X[p,s,d,h].solution_value()) for p in range(P) for h in range(H) for s in range(S) for d in range(D)]))\n",
    "else:\n",
    "    print(\"Solução não encontrada\")"
   ]
  },
  {
   "cell_type": "code",
   "execution_count": null,
   "metadata": {},
   "outputs": [],
   "source": []
  }
 ],
 "metadata": {
  "colab": {
   "collapsed_sections": [],
   "name": "Aula3-Resolucao.ipynb",
   "provenance": []
  },
  "kernelspec": {
   "display_name": "Python 3 (ipykernel)",
   "language": "python",
   "name": "python3"
  },
  "language_info": {
   "codemirror_mode": {
    "name": "ipython",
    "version": 3
   },
   "file_extension": ".py",
   "mimetype": "text/x-python",
   "name": "python",
   "nbconvert_exporter": "python",
   "pygments_lexer": "ipython3",
   "version": "3.10.4"
  }
 },
 "nbformat": 4,
 "nbformat_minor": 1
}
