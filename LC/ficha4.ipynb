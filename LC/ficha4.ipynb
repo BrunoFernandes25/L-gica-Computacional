{
 "cells": [
  {
   "cell_type": "markdown",
   "id": "7894c5ee",
   "metadata": {},
   "source": [
    "### Exercício 1\n",
    "\n",
    "Considere o exemplo de utilização do SCIP para encontrar $x$ e $y$ que minimizem $3x+4y$ satisfazendo as seguintes restrições:\n",
    "\n",
    "$$\n",
    "\\left\\{\n",
    "\\begin{array}{l}\n",
    "5x + 6y \\leq 200\\\\\n",
    "2x + 80y \\ge 150\\\\\n",
    "0 \\leq x \\leq 100\\\\\n",
    "0 \\leq y \\leq 100\n",
    "\\end{array}\n",
    "\\right.\n",
    "$$"
   ]
  },
  {
   "cell_type": "markdown",
   "id": "95aa9b02",
   "metadata": {},
   "source": [
    "# Sobre linearidade\n",
    "\n",
    "Os problemas que temos visto de Programação Inteira tem por objectivo calcular uma solução (ou a melhor solução, no caso de ser um problema de optimização) para um problema modelado como um conjunto de relações *lineares*, i.e., onde só são permitidas multiplicações em que um dos factores é constante.\n",
    "O relaxamento desta condição torna o problema muito mais difícil, e muitos solvers não lhe conseguem dar resposta, ou apenas conseguem responder em situações muito limitadas."
   ]
  },
  {
   "cell_type": "code",
   "execution_count": 1,
   "id": "7447dccb",
   "metadata": {},
   "outputs": [
    {
     "ename": "TypeError",
     "evalue": "",
     "output_type": "error",
     "traceback": [
      "\u001b[1;31m---------------------------------------------------------------------------\u001b[0m",
      "\u001b[1;31mTypeError\u001b[0m                                 Traceback (most recent call last)",
      "Cell \u001b[1;32mIn [1], line 10\u001b[0m\n\u001b[0;32m      8\u001b[0m solver\u001b[38;5;241m.\u001b[39mAdd(\u001b[38;5;241m5\u001b[39m\u001b[38;5;241m*\u001b[39mx \u001b[38;5;241m+\u001b[39m \u001b[38;5;241m6\u001b[39m\u001b[38;5;241m*\u001b[39my \u001b[38;5;241m<\u001b[39m\u001b[38;5;241m=\u001b[39m \u001b[38;5;241m200\u001b[39m)\n\u001b[0;32m      9\u001b[0m solver\u001b[38;5;241m.\u001b[39mAdd(\u001b[38;5;241m2\u001b[39m\u001b[38;5;241m*\u001b[39mx \u001b[38;5;241m+\u001b[39m \u001b[38;5;241m80\u001b[39m\u001b[38;5;241m*\u001b[39my \u001b[38;5;241m>\u001b[39m\u001b[38;5;241m=\u001b[39m \u001b[38;5;241m150\u001b[39m)\n\u001b[1;32m---> 10\u001b[0m solver\u001b[38;5;241m.\u001b[39mAdd(\u001b[43mx\u001b[49m\u001b[38;5;241;43m*\u001b[39;49m\u001b[43my\u001b[49m \u001b[38;5;241m>\u001b[39m\u001b[38;5;241m=\u001b[39m\u001b[38;5;241m1\u001b[39m) \u001b[38;5;66;03m# dá erro de tipo e era o esperado !!\u001b[39;00m\n\u001b[0;32m     11\u001b[0m solver\u001b[38;5;241m.\u001b[39mMinimize(\u001b[38;5;241m3\u001b[39m\u001b[38;5;241m*\u001b[39mx \u001b[38;5;241m+\u001b[39m \u001b[38;5;241m4\u001b[39m\u001b[38;5;241m*\u001b[39my)\n\u001b[0;32m     13\u001b[0m status \u001b[38;5;241m=\u001b[39m solver\u001b[38;5;241m.\u001b[39mSolve()\n",
      "File \u001b[1;32m~\\.conda\\envs\\logica\\lib\\site-packages\\ortools\\linear_solver\\pywraplp.py:1048\u001b[0m, in \u001b[0;36msetup_variable_operator.<locals>.<lambda>\u001b[1;34m(self, *args)\u001b[0m\n\u001b[0;32m   1046\u001b[0m \u001b[38;5;28;01mdef\u001b[39;00m \u001b[38;5;21msetup_variable_operator\u001b[39m(opname):\n\u001b[0;32m   1047\u001b[0m   \u001b[38;5;28msetattr\u001b[39m(Variable, opname,\n\u001b[1;32m-> 1048\u001b[0m           \u001b[38;5;28;01mlambda\u001b[39;00m \u001b[38;5;28mself\u001b[39m, \u001b[38;5;241m*\u001b[39margs: \u001b[38;5;28;43mgetattr\u001b[39;49m\u001b[43m(\u001b[49m\u001b[43mVariableExpr\u001b[49m\u001b[43m(\u001b[49m\u001b[38;5;28;43mself\u001b[39;49m\u001b[43m)\u001b[49m\u001b[43m,\u001b[49m\u001b[43m \u001b[49m\u001b[43mopname\u001b[49m\u001b[43m)\u001b[49m\u001b[43m(\u001b[49m\u001b[38;5;241;43m*\u001b[39;49m\u001b[43margs\u001b[49m\u001b[43m)\u001b[49m)\n",
      "File \u001b[1;32m~\\.conda\\envs\\logica\\lib\\site-packages\\ortools\\linear_solver\\linear_solver_natural_api.py:117\u001b[0m, in \u001b[0;36mLinearExpr.__mul__\u001b[1;34m(self, cst)\u001b[0m\n\u001b[0;32m    116\u001b[0m \u001b[38;5;28;01mdef\u001b[39;00m \u001b[38;5;21m__mul__\u001b[39m(\u001b[38;5;28mself\u001b[39m, cst):\n\u001b[1;32m--> 117\u001b[0m   \u001b[38;5;28;01mreturn\u001b[39;00m \u001b[43mProductCst\u001b[49m\u001b[43m(\u001b[49m\u001b[38;5;28;43mself\u001b[39;49m\u001b[43m,\u001b[49m\u001b[43m \u001b[49m\u001b[43mcst\u001b[49m\u001b[43m)\u001b[49m\n",
      "File \u001b[1;32m~\\.conda\\envs\\logica\\lib\\site-packages\\ortools\\linear_solver\\linear_solver_natural_api.py:179\u001b[0m, in \u001b[0;36mProductCst.__init__\u001b[1;34m(self, expr, coef)\u001b[0m\n\u001b[0;32m    177\u001b[0m   \u001b[38;5;28mself\u001b[39m\u001b[38;5;241m.\u001b[39m__coef \u001b[38;5;241m=\u001b[39m coef\n\u001b[0;32m    178\u001b[0m \u001b[38;5;28;01melse\u001b[39;00m:\n\u001b[1;32m--> 179\u001b[0m   \u001b[38;5;28;01mraise\u001b[39;00m \u001b[38;5;167;01mTypeError\u001b[39;00m\n",
      "\u001b[1;31mTypeError\u001b[0m: "
     ]
    }
   ],
   "source": [
    "from ortools.linear_solver import pywraplp\n",
    "\n",
    "solver = pywraplp.Solver.CreateSolver('SCIP')\n",
    "\n",
    "x = solver.IntVar(0.0,100,\"x\")\n",
    "y = solver.IntVar(0.0,100,\"y\")\n",
    "\n",
    "solver.Add(5*x + 6*y <= 200)\n",
    "solver.Add(2*x + 80*y >= 150)\n",
    "solver.Add(x*y >=1) # dá erro de tipo e era o esperado !!\n",
    "solver.Minimize(3*x + 4*y)\n",
    "\n",
    "status = solver.Solve()\n",
    "\n",
    "if status == pywraplp.Solver.OPTIMAL:\n",
    "    print (\"x = \",round(x.solution_value()))\n",
    "    print (\"y = \",round(y.solution_value()))\n",
    "    print (\"objectivo = \",round(solver.Objective().Value()))\n",
    "else:\n",
    "    print('No solution found.')"
   ]
  },
  {
   "cell_type": "markdown",
   "id": "f4d80707",
   "metadata": {},
   "source": [
    "Altere o programa de forma a acrescentar a restrição (não linear)  $ x y \\ge 1$ e veja como ele se comporta."
   ]
  },
  {
   "cell_type": "markdown",
   "id": "5064c8d0",
   "metadata": {},
   "source": [
    "Como se deve ter apercebido, o *wrapper* do SCIP assinala logo um erro de tipo, não perminido assim o produto de duas variáveis. \n",
    "O OR-Tools disponibiliza outras ferramentas de programação inteira que permitem este tipo de restrições, como é o caso do [CP-SAT solver](https://developers.google.com/optimization/cp/cp_solver)."
   ]
  },
  {
   "cell_type": "markdown",
   "id": "18824b4e",
   "metadata": {},
   "source": [
    "## CP-SAT solver\n",
    "\n",
    "O CP-SAT solver é uma ferramenta de programação inteira do OR-Tools que consegue lidar com a multiplicação de variáveis, embora de uma forma especial. \n",
    "\n",
    "A forma de interagir com o CP-SAT difere em alguns detalhes da do SCIP. Para ilustrar isso, apresentamos a seguir  a resolução comentada do exercício 1 em CP-SAT."
   ]
  },
  {
   "cell_type": "code",
   "execution_count": 2,
   "id": "339be546",
   "metadata": {},
   "outputs": [
    {
     "ename": "TypeError",
     "evalue": "Not an number: y",
     "output_type": "error",
     "traceback": [
      "\u001b[1;31m---------------------------------------------------------------------------\u001b[0m",
      "\u001b[1;31mTypeError\u001b[0m                                 Traceback (most recent call last)",
      "Cell \u001b[1;32mIn [2], line 14\u001b[0m\n\u001b[0;32m     12\u001b[0m model\u001b[38;5;241m.\u001b[39mAdd(\u001b[38;5;241m5\u001b[39m\u001b[38;5;241m*\u001b[39mx \u001b[38;5;241m+\u001b[39m \u001b[38;5;241m6\u001b[39m\u001b[38;5;241m*\u001b[39my \u001b[38;5;241m<\u001b[39m\u001b[38;5;241m=\u001b[39m \u001b[38;5;241m200\u001b[39m)\n\u001b[0;32m     13\u001b[0m model\u001b[38;5;241m.\u001b[39mAdd(\u001b[38;5;241m2\u001b[39m\u001b[38;5;241m*\u001b[39mx \u001b[38;5;241m+\u001b[39m \u001b[38;5;241m80\u001b[39m\u001b[38;5;241m*\u001b[39my \u001b[38;5;241m>\u001b[39m\u001b[38;5;241m=\u001b[39m \u001b[38;5;241m150\u001b[39m)\n\u001b[1;32m---> 14\u001b[0m model\u001b[38;5;241m.\u001b[39mAdd(\u001b[43mx\u001b[49m\u001b[38;5;241;43m*\u001b[39;49m\u001b[43my\u001b[49m \u001b[38;5;241m>\u001b[39m\u001b[38;5;241m=\u001b[39m \u001b[38;5;241m1\u001b[39m)\n\u001b[0;32m     16\u001b[0m \u001b[38;5;66;03m# Define o objectivo\u001b[39;00m\n\u001b[0;32m     17\u001b[0m model\u001b[38;5;241m.\u001b[39mMinimize(\u001b[38;5;241m3\u001b[39m\u001b[38;5;241m*\u001b[39mx \u001b[38;5;241m+\u001b[39m \u001b[38;5;241m4\u001b[39m\u001b[38;5;241m*\u001b[39my)\n",
      "File \u001b[1;32m~\\.conda\\envs\\logica\\lib\\site-packages\\ortools\\sat\\python\\cp_model.py:340\u001b[0m, in \u001b[0;36mLinearExpr.__mul__\u001b[1;34m(self, arg)\u001b[0m\n\u001b[0;32m    339\u001b[0m \u001b[38;5;28;01mdef\u001b[39;00m \u001b[38;5;21m__mul__\u001b[39m(\u001b[38;5;28mself\u001b[39m, arg):\n\u001b[1;32m--> 340\u001b[0m     arg \u001b[38;5;241m=\u001b[39m \u001b[43mcmh\u001b[49m\u001b[38;5;241;43m.\u001b[39;49m\u001b[43massert_is_a_number\u001b[49m\u001b[43m(\u001b[49m\u001b[43marg\u001b[49m\u001b[43m)\u001b[49m\n\u001b[0;32m    341\u001b[0m     \u001b[38;5;28;01mif\u001b[39;00m cmh\u001b[38;5;241m.\u001b[39mis_one(arg):\n\u001b[0;32m    342\u001b[0m         \u001b[38;5;28;01mreturn\u001b[39;00m \u001b[38;5;28mself\u001b[39m\n",
      "File \u001b[1;32m~\\.conda\\envs\\logica\\lib\\site-packages\\ortools\\sat\\python\\cp_model_helper.py:80\u001b[0m, in \u001b[0;36massert_is_a_number\u001b[1;34m(x)\u001b[0m\n\u001b[0;32m     78\u001b[0m \u001b[38;5;124;03m\"\"\"Asserts that x is a number and returns it.\"\"\"\u001b[39;00m\n\u001b[0;32m     79\u001b[0m \u001b[38;5;28;01mif\u001b[39;00m \u001b[38;5;129;01mnot\u001b[39;00m is_a_number(x):\n\u001b[1;32m---> 80\u001b[0m     \u001b[38;5;28;01mraise\u001b[39;00m \u001b[38;5;167;01mTypeError\u001b[39;00m(\u001b[38;5;124m'\u001b[39m\u001b[38;5;124mNot an number: \u001b[39m\u001b[38;5;132;01m%s\u001b[39;00m\u001b[38;5;124m'\u001b[39m \u001b[38;5;241m%\u001b[39m x)\n\u001b[0;32m     81\u001b[0m \u001b[38;5;28;01melif\u001b[39;00m is_integral(x):\n\u001b[0;32m     82\u001b[0m     \u001b[38;5;28;01mreturn\u001b[39;00m \u001b[38;5;28mint\u001b[39m(x)\n",
      "\u001b[1;31mTypeError\u001b[0m: Not an number: y"
     ]
    }
   ],
   "source": [
    "# Importar biblioteca\n",
    "from ortools.sat.python import cp_model\n",
    "\n",
    "# Cria o modelo CP-SAT\n",
    "model = cp_model.CpModel()\n",
    "\n",
    "# Cria as variáveis\n",
    "x = model.NewIntVar(0, 100, 'x')\n",
    "y = model.NewIntVar(0, 100, 'y')\n",
    "\n",
    "# Adiciona as restrições ao modelo\n",
    "model.Add(5*x + 6*y <= 200)\n",
    "model.Add(2*x + 80*y >= 150)\n",
    "model.Add(x*y >= 1)\n",
    "\n",
    "# Define o objectivo\n",
    "model.Minimize(3*x + 4*y)\n",
    "\n",
    "# Cria um solver CP-SAT a solver and solves the model.\n",
    "solver = cp_model.CpSolver()\n",
    "\n",
    "# Invoca o solver com o modelo criado\n",
    "status = solver.Solve(model)\n",
    "\n",
    "# Interpreta os resultados\n",
    "if status == cp_model.OPTIMAL or status == cp_model.FEASIBLE:\n",
    "    print('x = %i' % solver.Value(x))\n",
    "    print('y = %i' % solver.Value(y))\n",
    "    print (\"objectivo = \", int(solver.ObjectiveValue()))\n",
    "else:\n",
    "    print('No solution found.')"
   ]
  },
  {
   "cell_type": "markdown",
   "id": "3e182b91",
   "metadata": {},
   "source": [
    "Se tentar acrescentar a restrição $x y\\ge 1$ através de `model.Add(x*y <= 1)` verá que obtém também um erro de tipo.\n",
    "No CP-SAT a multiplicação de variáveis tem um tratamento especial.\n",
    "\n",
    "A multiplicação de variáveis no CP-SAT não é uma operação como a multiplicação de um escalar por uma variável. Para cada multiplicação de variáveis é necessário criar uma variável adicional que representa essa multiplicação. É depois esta nova variável que entra nas restrições que são acrescentadas."
   ]
  },
  {
   "cell_type": "code",
   "execution_count": 3,
   "id": "3206eabf",
   "metadata": {},
   "outputs": [
    {
     "name": "stdout",
     "output_type": "stream",
     "text": [
      "x = 1\n",
      "y = 2\n",
      "objectivo =  11\n"
     ]
    }
   ],
   "source": [
    "# Importar biblioteca\n",
    "from ortools.sat.python import cp_model\n",
    "\n",
    "# Cria o modelo CP-SAT\n",
    "model = cp_model.CpModel()\n",
    "\n",
    "# Cria as variáveis\n",
    "x = model.NewIntVar(0, 100, 'x')\n",
    "y = model.NewIntVar(0, 100, 'y')\n",
    "\n",
    "# Adiciona as restrições ao modelo\n",
    "model.Add(5*x + 6*y <= 200)\n",
    "model.Add(2*x + 80*y >= 150)\n",
    "\n",
    "# Cria uma variável adicional que representa a multiplicação das variáveis\n",
    "xy = model.NewIntVar(0, 100*100, \"xy\")\n",
    "model.AddMultiplicationEquality(xy, [x,y])  # xy = x*y\n",
    "# Acescenta a restrição x*y>=1\n",
    "model.Add(xy >= 1)\n",
    "\n",
    "# Define o objectivo\n",
    "model.Minimize(3*x + 4*y)\n",
    "\n",
    "# Cria um solver CP-SAT a solver and solves the model.\n",
    "solver = cp_model.CpSolver()\n",
    "\n",
    "# Invoca o solver com o modelo criado\n",
    "status = solver.Solve(model)\n",
    "\n",
    "# Interpreta os resultados\n",
    "if status == cp_model.OPTIMAL or status == cp_model.FEASIBLE:\n",
    "    print('x = %i' % solver.Value(x))\n",
    "    print('y = %i' % solver.Value(y))\n",
    "    print (\"objectivo = \", int(solver.ObjectiveValue()))\n",
    "else:\n",
    "    print('No solution found.')"
   ]
  },
  {
   "cell_type": "markdown",
   "id": "0cd5ab7a",
   "metadata": {},
   "source": [
    "Tem [aqui](https://github.com/d-krupke/cpsat-primer) um breve tutorial do CP-SAT."
   ]
  },
  {
   "cell_type": "markdown",
   "id": "01606b91",
   "metadata": {},
   "source": [
    "# Mais um problema de optimização linear\n",
    "\n",
    "Um hospital trabalha todos os dias da semana e tem que ter um número mínimo de enfermeiros para assegurar o seu bom funcionamento. Os enfermeiros trabalham em turnos, e há 3 turnos: manhã, tarde ou noite.\n",
    "As regras de funcionamento do hospital, quanto ao corpo de enfermagem, são as seguintes:\n",
    "\n",
    "- Todos os turnos têm pelo menos N enfermeiros.\n",
    "- Os turnos da manhã, por serem mais movimentados, têm no mínimo, mais 30% de enfermeiros do que é exigido nos restantes turnos.\n",
    "- Um enfermeiro não pode trabalhar dois turnos seguidos.\n",
    "- Todos os enfermeiros têm que ter, pelo menos, um dia de folga.\n",
    "\n",
    "Dado o número N de enfermeiros que se quer assegurar por turno, pretende-se saber qual será o números mínimo de enfermeiros que o hospital deve contratar."
   ]
  },
  {
   "cell_type": "markdown",
   "id": "8e48f748",
   "metadata": {},
   "source": [
    "### Exercício 2\n",
    "\n",
    "Faça a análise do problema acima apresentado. Primeiro, indique claramente as variáveis que vai necessitar e a sua interpretação. Depois, escreva formalmente as restrições que modelam o problema. Por fim, defina o objectivo do problema. "
   ]
  },
  {
   "cell_type": "code",
   "execution_count": 4,
   "id": "2c59006c",
   "metadata": {},
   "outputs": [],
   "source": [
    "from ortools.linear_solver import pywraplp\n",
    "\n",
    "enfermeiro = pywraplp.Solver.CreateSolver('SCIP')\n",
    "#Salas, Professores,Horas por dia, Dias, Carga Horária máx, mín. aulas por semana\n",
    "N = 5\n",
    "D = 7\n",
    "T = 21 # manhã,tarde,noite num total de 21 ver desenho caderno\n",
    "E = int(21*N*(1.3))\n",
    "# turno da manha sera N*1.3\n",
    "# para contratar será preciso E = 21(turnos na semana) * N*1.3(por excesso, ou seja, no caso dos turnos que tem mais enfermeiros)\n",
    "\n",
    "#definir as variáveis\n",
    "# \n",
    "x={}\n",
    "for e in range(E):\n",
    "    for t in range(T):\n",
    "        x[e,t]=enfermeiro.BoolVar(f'x[{e}][{t}]')\n",
    "y={}\n",
    "for e in range(E):\n",
    "    for d in range(D):\n",
    "        y[e,d]= enfermeiro.BoolVar(f'y[{e}][{d}]')\n",
    "\n",
    "#x[e,d,t] -> determina se um enfermeiro e num certo dia d num turno t está a trabalhar( == 1) ou nao (== 0)\n",
    "# ou como a stora fez, excluindo os dias visto os turnos serem sempre iguais ao longo dos dias,\n",
    "# x[e,t] _> dá 1 sse o enfermeiro e se encontra no turno t"
   ]
  },
  {
   "cell_type": "markdown",
   "id": "a627c383",
   "metadata": {},
   "source": [
    "1. Todos os turnos têm pelo menos N enfermeiros. "
   ]
  },
  {
   "cell_type": "markdown",
   "id": "10a0c61c",
   "metadata": {},
   "source": [
    "$ \\forall_{t<T} \\centerdot \\sum_{e<E} x_{e,t} \\geq N$"
   ]
  },
  {
   "cell_type": "code",
   "execution_count": 5,
   "id": "b41404c9",
   "metadata": {},
   "outputs": [],
   "source": [
    "for t in range(T):\n",
    "    enfermeiro.Add(sum([x[e,t] for e in range (E)]) >= N)"
   ]
  },
  {
   "cell_type": "markdown",
   "id": "e3256c33",
   "metadata": {},
   "source": [
    "2. Os turnos da manhã, por serem mais movimentados, têm no mínimo, mais 30% de enfermeiros do que é exigido nos restantes turnos."
   ]
  },
  {
   "cell_type": "markdown",
   "id": "79936ea3",
   "metadata": {},
   "source": [
    "$ \\forall_{t\\in{0,3,6,9,12,15,18} } \\centerdot \\sum_{e<E} x_{e,t} \\geq N*1.3 $"
   ]
  },
  {
   "cell_type": "code",
   "execution_count": 8,
   "id": "c83eb325",
   "metadata": {},
   "outputs": [],
   "source": [
    "listaT = [0,3,6,9,12,15,18]\n",
    "for t in range (0,len(listaT)):\n",
    "    enfermeiro.Add(sum([x[e,listaT[t]] for e in range (E)]) >= N*1.3)"
   ]
  },
  {
   "cell_type": "markdown",
   "id": "5ac3e219",
   "metadata": {},
   "source": [
    "3. Um enfermeiro não pode trabalhar dois turnos seguidos"
   ]
  },
  {
   "cell_type": "markdown",
   "id": "8184ccc8",
   "metadata": {},
   "source": [
    "$\\forall_{e<E}\\forall_{t<T} \\ x_{e,t} + x_{e,(t+1)\\bmod 21} \\le 1$"
   ]
  },
  {
   "cell_type": "code",
   "execution_count": 9,
   "id": "04acd831",
   "metadata": {},
   "outputs": [],
   "source": [
    "for e in range(E):\n",
    "    for t in range(T):\n",
    "        enfermeiro.Add(x[e,t] + x[e,((t+1)%21)] <= 1)"
   ]
  },
  {
   "cell_type": "markdown",
   "id": "4ebb9914",
   "metadata": {},
   "source": [
    "4. Todos os enfermeiros têm que ter, pelo menos, um dia de folga."
   ]
  },
  {
   "cell_type": "markdown",
   "id": "a4f5598b",
   "metadata": {},
   "source": [
    "$\\forall_{e,E} \\cdot \\sum_{d<D} y_{e,d} \\leq D-1$"
   ]
  },
  {
   "cell_type": "code",
   "execution_count": 10,
   "id": "d8bde34b",
   "metadata": {},
   "outputs": [],
   "source": [
    "for e in range(E):\n",
    "    enfermeiro.Add(sum([x[e,d] for d in range(D)]) <= D-1)"
   ]
  },
  {
   "cell_type": "markdown",
   "id": "028d21fe",
   "metadata": {},
   "source": [
    "5. Um enfermeiro só trabalha se tiver um turno num certo dia."
   ]
  },
  {
   "cell_type": "markdown",
   "id": "08adef4a",
   "metadata": {},
   "source": []
  },
  {
   "cell_type": "markdown",
   "id": "2cba3216",
   "metadata": {},
   "source": [
    "### Exercício 3\n",
    "\n",
    "Codifique em Python uma função `nurses(N)` que calcula o número mínimo de enfermeiros que um hospital deve contratar."
   ]
  },
  {
   "cell_type": "code",
   "execution_count": null,
   "id": "047ada0a",
   "metadata": {},
   "outputs": [],
   "source": [
    "# completar"
   ]
  }
 ],
 "metadata": {
  "kernelspec": {
   "display_name": "Python 3 (ipykernel)",
   "language": "python",
   "name": "python3"
  },
  "language_info": {
   "codemirror_mode": {
    "name": "ipython",
    "version": 3
   },
   "file_extension": ".py",
   "mimetype": "text/x-python",
   "name": "python",
   "nbconvert_exporter": "python",
   "pygments_lexer": "ipython3",
   "version": "3.10.4"
  }
 },
 "nbformat": 4,
 "nbformat_minor": 5
}
